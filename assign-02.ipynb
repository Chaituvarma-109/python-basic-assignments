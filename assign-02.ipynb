{
 "cells": [
  {
   "cell_type": "markdown",
   "metadata": {},
   "source": [
    "1. What are the two values of the Boolean data type? How do you write them?"
   ]
  },
  {
   "cell_type": "markdown",
   "metadata": {},
   "source": [
    "True, False\n",
    "\n",
    "a = true\n",
    "b = false"
   ]
  },
  {
   "cell_type": "markdown",
   "metadata": {},
   "source": [
    "2. What are the three different types of Boolean operators?"
   ]
  },
  {
   "cell_type": "markdown",
   "metadata": {},
   "source": [
    "logical and, logical or, logical not"
   ]
  },
  {
   "cell_type": "markdown",
   "metadata": {},
   "source": [
    "3. Make a list of each Boolean operator's truth tables (i.e. every possible combination of Boolean values for the operator and what it evaluate )."
   ]
  },
  {
   "cell_type": "code",
   "execution_count": 3,
   "metadata": {},
   "outputs": [
    {
     "name": "stdout",
     "output_type": "stream",
     "text": [
      "\n",
      "The AND operator truth table\n",
      " A  B AandB\n",
      "[0, 0, 0]\n",
      "[0, 1, 0]\n",
      "[1, 1, 1]\n",
      "\n",
      "The OR operator truth table\n",
      " A  B AorB\n",
      "[0, 0, 0]\n",
      "[0, 1, 1]\n",
      "[1, 1, 1]\n",
      "\n",
      "The NOT operator truth table\n",
      " A notA\n",
      "[0, 1]\n",
      "[1, 0]\n"
     ]
    }
   ],
   "source": [
    "andList = [[0, 0 ,0],[0,1,0],[1,1,1]]\n",
    "\n",
    "print(\"\\nThe AND operator truth table\")\n",
    "print(\" A  B AandB\")\n",
    "for i in andList:\n",
    "    print(i)\n",
    "    \n",
    "orList = [[0, 0 ,0],[0,1,1],[1,1,1]]\n",
    "\n",
    "print(\"\\nThe OR operator truth table\")\n",
    "print(\" A  B AorB\")\n",
    "for i in orList:\n",
    "    print(i)\n",
    "    \n",
    "notList = [[0, 1],[1,0]]\n",
    "\n",
    "print(\"\\nThe NOT operator truth table\")\n",
    "print(\" A notA\")\n",
    "for i in notList:\n",
    "    print(i)"
   ]
  },
  {
   "cell_type": "markdown",
   "metadata": {},
   "source": [
    "4. What are the values of the following expressions?\n",
    "(5 > 4) and (3 == 5)\n",
    "not (5 > 4)\n",
    "(5 > 4) or (3 == 5)\n",
    "not ((5 > 4) or (3 == 5))\n",
    "(True and True) and (True == False)\n",
    "(not False) or (not True)"
   ]
  },
  {
   "cell_type": "markdown",
   "metadata": {},
   "source": [
    "- (5 > 4) and (3 == 5)  - > True and False = False\n",
    "- not (5 > 4) -> not(True) = False\n",
    "- (5 > 4) or (3 == 5) -> True or False = True\n",
    "- not ((5 > 4) or (3 == 5)) -> not(True) - >False\n",
    "- (True and True) and (True == False) - > (True) and (False) = False\n",
    "- (not False) or (not True) -> True or False = True"
   ]
  },
  {
   "cell_type": "markdown",
   "metadata": {},
   "source": [
    "5. What are the six comparison operators?\n"
   ]
  },
  {
   "cell_type": "markdown",
   "metadata": {},
   "source": [
    "== -> Equal \n",
    "!= -> Not equal\n",
    "> -> Greater than\n",
    "< -> Less than\n",
    ">= -> Greater than or equal to\n",
    "<= -> Less than or equal to"
   ]
  },
  {
   "cell_type": "markdown",
   "metadata": {},
   "source": [
    "6. How do you tell the difference between the equal to and assignment operators?Describe a condition and when you would use one.\n"
   ]
  },
  {
   "cell_type": "markdown",
   "metadata": {},
   "source": [
    "- assignment operator has one equal sign.It is used for assigning the value to a variable.\n",
    "    example a = 10, str = \"Bhanu\"\n",
    "- equal operator has two equal signs.\n",
    "    example a == 10"
   ]
  },
  {
   "cell_type": "markdown",
   "metadata": {},
   "source": [
    "7. Identify the three blocks in this code:\n",
    "spam = 0\n",
    "if spam == 10:\n",
    "print('eggs')\n",
    "if spam > 5:\n",
    "print('bacon')\n",
    "else:\n",
    "print('ham')\n",
    "print('spam')\n",
    "print('spam')"
   ]
  },
  {
   "cell_type": "code",
   "execution_count": 1,
   "metadata": {},
   "outputs": [
    {
     "name": "stdout",
     "output_type": "stream",
     "text": [
      "ham\n",
      "spam\n",
      "spam\n"
     ]
    }
   ],
   "source": [
    "# 1st block\n",
    "spam = 0\n",
    "\n",
    "# 2nd block\n",
    "if spam == 10:\n",
    "    print('eggs')\n",
    "\n",
    "# 3rd block\n",
    "if spam > 5:\n",
    "    print('bacon')\n",
    "else:\n",
    "    print('ham')\n",
    "print('spam')\n",
    "print('spam')"
   ]
  },
  {
   "cell_type": "markdown",
   "metadata": {},
   "source": [
    "8. Write code that prints Hello if 1 is stored in spam, prints Howdy if 2 is stored in spam, and prints Greetings! if anything else is stored in spam."
   ]
  },
  {
   "cell_type": "code",
   "execution_count": 5,
   "metadata": {},
   "outputs": [
    {
     "name": "stdout",
     "output_type": "stream",
     "text": [
      "Hello\n"
     ]
    }
   ],
   "source": [
    "spam = 1\n",
    "if spam == 1:\n",
    "    print('Hello')\n",
    "elif spam ==2:\n",
    "    print('Howdy')\n",
    "else:\n",
    "    print('Greetings')"
   ]
  },
  {
   "cell_type": "markdown",
   "metadata": {},
   "source": [
    "9. If your programme is stuck in an endless loop, what keys you’ll press?\n"
   ]
  },
  {
   "cell_type": "markdown",
   "metadata": {},
   "source": [
    "CTRL+C"
   ]
  },
  {
   "cell_type": "markdown",
   "metadata": {},
   "source": [
    "10. How can you tell the difference between break and continue?\n"
   ]
  },
  {
   "cell_type": "markdown",
   "metadata": {},
   "source": [
    "- Break Statement : \n",
    "    Break statements exist in Python to exit or “break” a for or while conditional loop. When the loop ends, the code picks up\n",
    "    from and executes the next line immediately following the loop that was broken\n",
    "\n",
    "- Continue Statement:\n",
    "    The continue statement is used to skip code within a loop for certain iterations of the loop. After the code is skipped,\n",
    "    the loop continues where it left off"
   ]
  },
  {
   "cell_type": "markdown",
   "metadata": {},
   "source": [
    "11. In a for loop, what is the difference between range(10), range(0, 10), and range(0, 10, 1)?\n"
   ]
  },
  {
   "cell_type": "markdown",
   "metadata": {},
   "source": [
    "range function has three parameters, they are:\n",
    " a. start: this is the start value.\n",
    " b. stop: this is the stop value ie., at which value it should be stopped usually it is stop-1.\n",
    " c. step: this is the increment value i.e., by which value it has to increase. Default value is 1.\n",
    "\n",
    "1. range(10): in this we have only one value. this value is considered as stop value because by default the start value is taken as 0 and also default step value is 1, if we do not mention. so this will print values from 0 to 9.\n",
    "\n",
    "2. range(0, 10): in this we have two values. 'one is start value which is 0 and stop value which is 10 and also default step value is 1. so this will print values from 0 to 9.\n",
    "\n",
    "3. range(0, 10, 1): in this we have two values. 'one is start value which is 0 and stop value which is 10 and also step value is 1. so this will print values from 0 to 9."
   ]
  },
  {
   "cell_type": "markdown",
   "metadata": {},
   "source": [
    "12. Write a short program that prints the numbers 1 to 10 using a for loop. Then write an equivalent program that prints the numbers 1 to 10 using a while loop.\n"
   ]
  },
  {
   "cell_type": "code",
   "execution_count": 3,
   "metadata": {},
   "outputs": [
    {
     "name": "stdout",
     "output_type": "stream",
     "text": [
      "1\n",
      "2\n",
      "3\n",
      "4\n",
      "5\n",
      "6\n",
      "7\n",
      "8\n",
      "9\n",
      "10\n"
     ]
    }
   ],
   "source": [
    "for i in range(1,11):\n",
    "    print(i)"
   ]
  },
  {
   "cell_type": "code",
   "execution_count": 4,
   "metadata": {},
   "outputs": [
    {
     "name": "stdout",
     "output_type": "stream",
     "text": [
      "1\n",
      "2\n",
      "3\n",
      "4\n",
      "5\n",
      "6\n",
      "7\n",
      "8\n",
      "9\n",
      "10\n"
     ]
    }
   ],
   "source": [
    "i = 1\n",
    "while(i<11):\n",
    "    print(i)\n",
    "    i += 1\n"
   ]
  },
  {
   "cell_type": "markdown",
   "metadata": {},
   "source": [
    "13. If you had a function named bacon() inside a module named spam, how would you call it after importing spam?"
   ]
  },
  {
   "cell_type": "code",
   "execution_count": 2,
   "metadata": {},
   "outputs": [],
   "source": [
    "import spam\n",
    "\n",
    "a = spam.bacon()"
   ]
  }
 ],
 "metadata": {
  "kernelspec": {
   "display_name": "Python 3.9.7 ('base')",
   "language": "python",
   "name": "python3"
  },
  "language_info": {
   "codemirror_mode": {
    "name": "ipython",
    "version": 3
   },
   "file_extension": ".py",
   "mimetype": "text/x-python",
   "name": "python",
   "nbconvert_exporter": "python",
   "pygments_lexer": "ipython3",
   "version": "3.9.7"
  },
  "orig_nbformat": 4,
  "vscode": {
   "interpreter": {
    "hash": "70772fd1777c9d7c346583c54da149352dbd485bfb20acc70a88d1eb753ef7f7"
   }
  }
 },
 "nbformat": 4,
 "nbformat_minor": 2
}
