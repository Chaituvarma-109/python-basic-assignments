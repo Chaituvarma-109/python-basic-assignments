{
 "cells": [
  {
   "cell_type": "markdown",
   "metadata": {},
   "source": [
    "Q1. What is the meaning of multiple inheritance?\n",
    "\n",
    "Q2. What is the concept of delegation?\n",
    "\n",
    "Q3. What is the concept of composition?\n",
    "\n",
    "Q4. What are bound methods and how do we use them?\n",
    "\n",
    "Q5. What is the purpose of pseudoprivate attributes?"
   ]
  },
  {
   "cell_type": "markdown",
   "metadata": {},
   "source": []
  }
 ],
 "metadata": {
  "kernelspec": {
   "display_name": "Python 3.9.7 ('base')",
   "language": "python",
   "name": "python3"
  },
  "language_info": {
   "name": "python",
   "version": "3.9.7"
  },
  "orig_nbformat": 4,
  "vscode": {
   "interpreter": {
    "hash": "70772fd1777c9d7c346583c54da149352dbd485bfb20acc70a88d1eb753ef7f7"
   }
  }
 },
 "nbformat": 4,
 "nbformat_minor": 2
}
