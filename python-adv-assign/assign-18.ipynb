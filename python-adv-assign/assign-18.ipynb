{
 "cells": [
  {
   "cell_type": "markdown",
   "metadata": {},
   "source": [
    "Q1. Describe the differences between text and binary files in a single paragraph.\n",
    "\n",
    "Q2. What are some scenarios where using text files will be the better option? When would you like to\n",
    "use binary files instead of text files?\n",
    "\n",
    "Q3. What are some of the issues with using binary operations to read and write a Python integer\n",
    "directly to disc?\n",
    "\n",
    "Q4. Describe a benefit of using the with keyword instead of explicitly opening a file.\n",
    "\n",
    "Q5. Does Python have the trailing newline while reading a line of text? Does Python append a\n",
    "newline when you write a line of text?\n",
    "\n",
    "Q6. What file operations enable for random-access operation?\n",
    "\n",
    "Q7. When do you think you&#39;ll use the struct package the most?\n",
    "\n",
    "Q8. When is pickling the best option?\n",
    "\n",
    "Q9. When will it be best to use the shelve package?\n",
    "\n",
    "Q10. What is a special restriction when using the shelve package, as opposed to using other data\n",
    "dictionaries?"
   ]
  },
  {
   "cell_type": "markdown",
   "metadata": {},
   "source": []
  }
 ],
 "metadata": {
  "kernelspec": {
   "display_name": "Python 3.9.7 ('base')",
   "language": "python",
   "name": "python3"
  },
  "language_info": {
   "name": "python",
   "version": "3.9.7"
  },
  "orig_nbformat": 4,
  "vscode": {
   "interpreter": {
    "hash": "70772fd1777c9d7c346583c54da149352dbd485bfb20acc70a88d1eb753ef7f7"
   }
  }
 },
 "nbformat": 4,
 "nbformat_minor": 2
}
