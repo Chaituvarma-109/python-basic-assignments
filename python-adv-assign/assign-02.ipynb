{
 "cells": [
  {
   "cell_type": "markdown",
   "metadata": {},
   "source": [
    "Q1. What is the relationship between classes and modules?\n",
    "\n",
    "Q2. How do you make instances and classes?\n",
    "\n",
    "Q3. Where and how should be class attributes created?\n",
    "\n",
    "Q4. Where and how are instance attributes created?\n",
    "\n",
    "Q5. What does the term &quot;self&quot; in a Python class mean?\n",
    "\n",
    "Q6. How does a Python class handle operator overloading?\n",
    "\n",
    "Q7. When do you consider allowing operator overloading of your classes?\n",
    "\n",
    "Q8. What is the most popular form of operator overloading?\n",
    "\n",
    "Q9. What are the two most important concepts to grasp in order to comprehend Python OOP code?"
   ]
  },
  {
   "cell_type": "markdown",
   "metadata": {},
   "source": []
  }
 ],
 "metadata": {
  "kernelspec": {
   "display_name": "Python 3.9.7 ('base')",
   "language": "python",
   "name": "python3"
  },
  "language_info": {
   "name": "python",
   "version": "3.9.7"
  },
  "orig_nbformat": 4,
  "vscode": {
   "interpreter": {
    "hash": "70772fd1777c9d7c346583c54da149352dbd485bfb20acc70a88d1eb753ef7f7"
   }
  }
 },
 "nbformat": 4,
 "nbformat_minor": 2
}
