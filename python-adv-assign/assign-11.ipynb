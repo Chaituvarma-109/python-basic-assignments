{
 "cells": [
  {
   "cell_type": "markdown",
   "metadata": {},
   "source": [
    "Q1. What is the concept of a metaclass?\n",
    "\n",
    "Q2. What is the best way to declare a class&#39;s metaclass?\n",
    "\n",
    "Q3. How do class decorators overlap with metaclasses for handling classes?\n",
    "\n",
    "Q4. How do class decorators overlap with metaclasses for handling instances?"
   ]
  },
  {
   "cell_type": "markdown",
   "metadata": {},
   "source": []
  }
 ],
 "metadata": {
  "kernelspec": {
   "display_name": "Python 3.9.7 ('base')",
   "language": "python",
   "name": "python3"
  },
  "language_info": {
   "name": "python",
   "version": "3.9.7"
  },
  "orig_nbformat": 4,
  "vscode": {
   "interpreter": {
    "hash": "70772fd1777c9d7c346583c54da149352dbd485bfb20acc70a88d1eb753ef7f7"
   }
  }
 },
 "nbformat": 4,
 "nbformat_minor": 2
}
